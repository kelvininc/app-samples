{
 "cells": [
  {
   "cell_type": "markdown",
   "metadata": {
    "application/vnd.databricks.v1+cell": {
     "cellMetadata": {},
     "inputWidgets": {},
     "nuid": "c93128b3-7f1a-4d4c-9914-027ed91c8110",
     "showTitle": false,
     "title": ""
    }
   },
   "source": [
    "## Historical Data"
   ]
  },
  {
   "cell_type": "code",
   "execution_count": 0,
   "metadata": {
    "application/vnd.databricks.v1+cell": {
     "cellMetadata": {
      "byteLimit": 2048000,
      "rowLimit": 10000
     },
     "inputWidgets": {},
     "nuid": "79e2d686-3689-4b1b-bb7e-e58434130f28",
     "showTitle": false,
     "title": ""
    }
   },
   "outputs": [
    {
     "output_type": "execute_result",
     "data": {
      "text/html": [
       "<div>\n",
       "<style scoped>\n",
       "    .dataframe tbody tr th:only-of-type {\n",
       "        vertical-align: middle;\n",
       "    }\n",
       "\n",
       "    .dataframe tbody tr th {\n",
       "        vertical-align: top;\n",
       "    }\n",
       "\n",
       "    .dataframe thead th {\n",
       "        text-align: right;\n",
       "    }\n",
       "</style>\n",
       "<table border=\"1\" class=\"dataframe\">\n",
       "  <thead>\n",
       "    <tr style=\"text-align: right;\">\n",
       "      <th></th>\n",
       "      <th>time</th>\n",
       "      <th>casing_pressure</th>\n",
       "      <th>tubing_pressure</th>\n",
       "      <th>water_flow_rate</th>\n",
       "      <th>gas_flow_rate</th>\n",
       "      <th>torque</th>\n",
       "      <th>speed</th>\n",
       "    </tr>\n",
       "  </thead>\n",
       "  <tbody>\n",
       "    <tr>\n",
       "      <th>0</th>\n",
       "      <td>2023-12-13 06:00:00</td>\n",
       "      <td>56.021122</td>\n",
       "      <td>57.0</td>\n",
       "      <td>21.325994</td>\n",
       "      <td>41.126305</td>\n",
       "      <td>94.019989</td>\n",
       "      <td>54.899994</td>\n",
       "    </tr>\n",
       "    <tr>\n",
       "      <th>1</th>\n",
       "      <td>2023-12-13 06:00:30</td>\n",
       "      <td>56.017956</td>\n",
       "      <td>57.0</td>\n",
       "      <td>24.394835</td>\n",
       "      <td>40.480297</td>\n",
       "      <td>93.929993</td>\n",
       "      <td>55.000000</td>\n",
       "    </tr>\n",
       "    <tr>\n",
       "      <th>2</th>\n",
       "      <td>2023-12-13 06:01:00</td>\n",
       "      <td>56.034664</td>\n",
       "      <td>57.0</td>\n",
       "      <td>27.043316</td>\n",
       "      <td>40.693230</td>\n",
       "      <td>93.819977</td>\n",
       "      <td>54.799988</td>\n",
       "    </tr>\n",
       "    <tr>\n",
       "      <th>3</th>\n",
       "      <td>2023-12-13 06:01:30</td>\n",
       "      <td>56.033863</td>\n",
       "      <td>57.0</td>\n",
       "      <td>25.733318</td>\n",
       "      <td>40.977997</td>\n",
       "      <td>93.959991</td>\n",
       "      <td>55.000000</td>\n",
       "    </tr>\n",
       "    <tr>\n",
       "      <th>4</th>\n",
       "      <td>2023-12-13 06:02:00</td>\n",
       "      <td>56.049057</td>\n",
       "      <td>57.0</td>\n",
       "      <td>24.749817</td>\n",
       "      <td>40.067261</td>\n",
       "      <td>93.699982</td>\n",
       "      <td>55.000000</td>\n",
       "    </tr>\n",
       "  </tbody>\n",
       "</table>\n",
       "</div>"
      ],
      "text/plain": [
       "                 time  casing_pressure  ...     torque      speed\n",
       "0 2023-12-13 06:00:00        56.021122  ...  94.019989  54.899994\n",
       "1 2023-12-13 06:00:30        56.017956  ...  93.929993  55.000000\n",
       "2 2023-12-13 06:01:00        56.034664  ...  93.819977  54.799988\n",
       "3 2023-12-13 06:01:30        56.033863  ...  93.959991  55.000000\n",
       "4 2023-12-13 06:02:00        56.049057  ...  93.699982  55.000000\n",
       "\n",
       "[5 rows x 7 columns]"
      ]
     },
     "execution_count": 4,
     "metadata": {},
     "output_type": "execute_result"
    }
   ],
   "source": [
    "# Set the current database to 'kelvin'\n",
    "spark.sql(\"USE hive_metastore.kelvin\")\n",
    "\n",
    "# Load the table 'pcp' into a DataFrame\n",
    "df = spark.table(\"pcp_historical_data\")\n",
    "\n",
    "# Convert to pandas and clean \n",
    "df = df.toPandas()\n",
    "df = df.dropna()\n",
    "df.head()"
   ]
  },
  {
   "cell_type": "markdown",
   "metadata": {
    "application/vnd.databricks.v1+cell": {
     "cellMetadata": {},
     "inputWidgets": {},
     "nuid": "59b757f7-afe9-4cd1-8515-44abac9b5bab",
     "showTitle": false,
     "title": ""
    }
   },
   "source": [
    "## Synthetic Data"
   ]
  },
  {
   "cell_type": "code",
   "execution_count": 0,
   "metadata": {
    "application/vnd.databricks.v1+cell": {
     "cellMetadata": {
      "byteLimit": 2048000,
      "rowLimit": 10000
     },
     "inputWidgets": {},
     "nuid": "5d6a0521-f8ec-41af-90cf-5a11afc0f250",
     "showTitle": false,
     "title": ""
    }
   },
   "outputs": [
    {
     "output_type": "execute_result",
     "data": {
      "text/html": [
       "<div>\n",
       "<style scoped>\n",
       "    .dataframe tbody tr th:only-of-type {\n",
       "        vertical-align: middle;\n",
       "    }\n",
       "\n",
       "    .dataframe tbody tr th {\n",
       "        vertical-align: top;\n",
       "    }\n",
       "\n",
       "    .dataframe thead th {\n",
       "        text-align: right;\n",
       "    }\n",
       "</style>\n",
       "<table border=\"1\" class=\"dataframe\">\n",
       "  <thead>\n",
       "    <tr style=\"text-align: right;\">\n",
       "      <th></th>\n",
       "      <th>casing_pressure</th>\n",
       "      <th>tubing_pressure</th>\n",
       "      <th>gas_flow_rate</th>\n",
       "      <th>water_flow_rate</th>\n",
       "      <th>speed</th>\n",
       "    </tr>\n",
       "  </thead>\n",
       "  <tbody>\n",
       "    <tr>\n",
       "      <th>0</th>\n",
       "      <td>117.640523</td>\n",
       "      <td>108.831507</td>\n",
       "      <td>48.154091</td>\n",
       "      <td>17.386946</td>\n",
       "      <td>88.026921</td>\n",
       "    </tr>\n",
       "    <tr>\n",
       "      <th>1</th>\n",
       "      <td>104.001572</td>\n",
       "      <td>76.522409</td>\n",
       "      <td>48.803104</td>\n",
       "      <td>23.316261</td>\n",
       "      <td>77.682060</td>\n",
       "    </tr>\n",
       "    <tr>\n",
       "      <th>2</th>\n",
       "      <td>109.787380</td>\n",
       "      <td>77.295150</td>\n",
       "      <td>55.498298</td>\n",
       "      <td>19.763672</td>\n",
       "      <td>115.333264</td>\n",
       "    </tr>\n",
       "    <tr>\n",
       "      <th>3</th>\n",
       "      <td>122.408932</td>\n",
       "      <td>99.693967</td>\n",
       "      <td>53.276319</td>\n",
       "      <td>18.639644</td>\n",
       "      <td>107.125856</td>\n",
       "    </tr>\n",
       "    <tr>\n",
       "      <th>4</th>\n",
       "      <td>118.675580</td>\n",
       "      <td>78.268766</td>\n",
       "      <td>53.200658</td>\n",
       "      <td>21.332766</td>\n",
       "      <td>64.629231</td>\n",
       "    </tr>\n",
       "  </tbody>\n",
       "</table>\n",
       "</div>"
      ],
      "text/plain": [
       "   casing_pressure  tubing_pressure  gas_flow_rate  water_flow_rate       speed\n",
       "0       117.640523       108.831507      48.154091        17.386946   88.026921\n",
       "1       104.001572        76.522409      48.803104        23.316261   77.682060\n",
       "2       109.787380        77.295150      55.498298        19.763672  115.333264\n",
       "3       122.408932        99.693967      53.276319        18.639644  107.125856\n",
       "4       118.675580        78.268766      53.200658        21.332766   64.629231"
      ]
     },
     "execution_count": 30,
     "metadata": {},
     "output_type": "execute_result"
    }
   ],
   "source": [
    "import pandas as pd\n",
    "import numpy as np\n",
    "\n",
    "# Sample data creation\n",
    "np.random.seed(0)\n",
    "\n",
    "df = pd.DataFrame({\n",
    "    'casing_pressure': np.random.normal(100, 10, 100),\n",
    "    'tubing_pressure': np.random.normal(90, 10, 100),\n",
    "    'gas_flow_rate': np.random.normal(50, 5, 100),\n",
    "    'water_flow_rate': np.random.normal(20, 2, 100),\n",
    "    'speed': np.random.normal(100, 20, 100)  # This is the target variable\n",
    "})\n",
    "df.head()"
   ]
  },
  {
   "cell_type": "markdown",
   "metadata": {
    "application/vnd.databricks.v1+cell": {
     "cellMetadata": {
      "byteLimit": 2048000,
      "rowLimit": 10000
     },
     "inputWidgets": {},
     "nuid": "27dcd71b-9454-4633-bb6d-e6332f635643",
     "showTitle": false,
     "title": ""
    }
   },
   "source": [
    "## Train Model"
   ]
  },
  {
   "cell_type": "code",
   "execution_count": 0,
   "metadata": {
    "application/vnd.databricks.v1+cell": {
     "cellMetadata": {
      "byteLimit": 2048000,
      "rowLimit": 10000
     },
     "inputWidgets": {},
     "nuid": "839413aa-5718-40d7-b2d7-b8954444ee3f",
     "showTitle": false,
     "title": ""
    }
   },
   "outputs": [
    {
     "output_type": "display_data",
     "data": {
      "application/vnd.jupyter.widget-view+json": {
       "model_id": "fd92d811e96447c0b0235b77b916f911",
       "version_major": 2,
       "version_minor": 0
      },
      "text/plain": [
       "Uploading artifacts:   0%|          | 0/5 [00:00<?, ?it/s]"
      ]
     },
     "metadata": {},
     "output_type": "display_data"
    },
    {
     "output_type": "execute_result",
     "data": {
      "text/html": [
       "<style>#sk-container-id-8 {color: black;}#sk-container-id-8 pre{padding: 0;}#sk-container-id-8 div.sk-toggleable {background-color: white;}#sk-container-id-8 label.sk-toggleable__label {cursor: pointer;display: block;width: 100%;margin-bottom: 0;padding: 0.3em;box-sizing: border-box;text-align: center;}#sk-container-id-8 label.sk-toggleable__label-arrow:before {content: \"▸\";float: left;margin-right: 0.25em;color: #696969;}#sk-container-id-8 label.sk-toggleable__label-arrow:hover:before {color: black;}#sk-container-id-8 div.sk-estimator:hover label.sk-toggleable__label-arrow:before {color: black;}#sk-container-id-8 div.sk-toggleable__content {max-height: 0;max-width: 0;overflow: hidden;text-align: left;background-color: #f0f8ff;}#sk-container-id-8 div.sk-toggleable__content pre {margin: 0.2em;color: black;border-radius: 0.25em;background-color: #f0f8ff;}#sk-container-id-8 input.sk-toggleable__control:checked~div.sk-toggleable__content {max-height: 200px;max-width: 100%;overflow: auto;}#sk-container-id-8 input.sk-toggleable__control:checked~label.sk-toggleable__label-arrow:before {content: \"▾\";}#sk-container-id-8 div.sk-estimator input.sk-toggleable__control:checked~label.sk-toggleable__label {background-color: #d4ebff;}#sk-container-id-8 div.sk-label input.sk-toggleable__control:checked~label.sk-toggleable__label {background-color: #d4ebff;}#sk-container-id-8 input.sk-hidden--visually {border: 0;clip: rect(1px 1px 1px 1px);clip: rect(1px, 1px, 1px, 1px);height: 1px;margin: -1px;overflow: hidden;padding: 0;position: absolute;width: 1px;}#sk-container-id-8 div.sk-estimator {font-family: monospace;background-color: #f0f8ff;border: 1px dotted black;border-radius: 0.25em;box-sizing: border-box;margin-bottom: 0.5em;}#sk-container-id-8 div.sk-estimator:hover {background-color: #d4ebff;}#sk-container-id-8 div.sk-parallel-item::after {content: \"\";width: 100%;border-bottom: 1px solid gray;flex-grow: 1;}#sk-container-id-8 div.sk-label:hover label.sk-toggleable__label {background-color: #d4ebff;}#sk-container-id-8 div.sk-serial::before {content: \"\";position: absolute;border-left: 1px solid gray;box-sizing: border-box;top: 0;bottom: 0;left: 50%;z-index: 0;}#sk-container-id-8 div.sk-serial {display: flex;flex-direction: column;align-items: center;background-color: white;padding-right: 0.2em;padding-left: 0.2em;position: relative;}#sk-container-id-8 div.sk-item {position: relative;z-index: 1;}#sk-container-id-8 div.sk-parallel {display: flex;align-items: stretch;justify-content: center;background-color: white;position: relative;}#sk-container-id-8 div.sk-item::before, #sk-container-id-8 div.sk-parallel-item::before {content: \"\";position: absolute;border-left: 1px solid gray;box-sizing: border-box;top: 0;bottom: 0;left: 50%;z-index: -1;}#sk-container-id-8 div.sk-parallel-item {display: flex;flex-direction: column;z-index: 1;position: relative;background-color: white;}#sk-container-id-8 div.sk-parallel-item:first-child::after {align-self: flex-end;width: 50%;}#sk-container-id-8 div.sk-parallel-item:last-child::after {align-self: flex-start;width: 50%;}#sk-container-id-8 div.sk-parallel-item:only-child::after {width: 0;}#sk-container-id-8 div.sk-dashed-wrapped {border: 1px dashed gray;margin: 0 0.4em 0.5em 0.4em;box-sizing: border-box;padding-bottom: 0.4em;background-color: white;}#sk-container-id-8 div.sk-label label {font-family: monospace;font-weight: bold;display: inline-block;line-height: 1.2em;}#sk-container-id-8 div.sk-label-container {text-align: center;}#sk-container-id-8 div.sk-container {/* jupyter's `normalize.less` sets `[hidden] { display: none; }` but bootstrap.min.css set `[hidden] { display: none !important; }` so we also need the `!important` here to be able to override the default hidden behavior on the sphinx rendered scikit-learn.org. See: https://github.com/scikit-learn/scikit-learn/issues/21755 */display: inline-block !important;position: relative;}#sk-container-id-8 div.sk-text-repr-fallback {display: none;}</style><div id=\"sk-container-id-8\" class=\"sk-top-container\"><div class=\"sk-text-repr-fallback\"><pre>LinearRegression()</pre><b>In a Jupyter environment, please rerun this cell to show the HTML representation or trust the notebook. <br />On GitHub, the HTML representation is unable to render, please try loading this page with nbviewer.org.</b></div><div class=\"sk-container\" hidden><div class=\"sk-item\"><div class=\"sk-estimator sk-toggleable\"><input class=\"sk-toggleable__control sk-hidden--visually\" id=\"sk-estimator-id-8\" type=\"checkbox\" checked><label for=\"sk-estimator-id-8\" class=\"sk-toggleable__label sk-toggleable__label-arrow\">LinearRegression</label><div class=\"sk-toggleable__content\"><pre>LinearRegression()</pre></div></div></div></div></div>"
      ],
      "text/plain": [
       "LinearRegression()"
      ]
     },
     "execution_count": 31,
     "metadata": {},
     "output_type": "execute_result"
    }
   ],
   "source": [
    "from sklearn.linear_model import LinearRegression\n",
    "from sklearn.preprocessing import StandardScaler\n",
    "\n",
    "# Data Preprocessing\n",
    "scaler = StandardScaler()\n",
    "features = ['casing_pressure', 'tubing_pressure', 'gas_flow_rate', 'water_flow_rate']\n",
    "\n",
    "X = df[features]\n",
    "y = df['speed']\n",
    "\n",
    "# Scaling and converting back to DataFrame to keep column names\n",
    "X_scaled_df = pd.DataFrame(scaler.fit_transform(X), columns=features)\n",
    "\n",
    "# Splitting the Data chronologically\n",
    "X_train = X_scaled_df.iloc[:int(X_scaled_df.shape[0]*0.8), :]\n",
    "X_test = X_scaled_df.iloc[int(X_scaled_df.shape[0]*0.8):, :]\n",
    "\n",
    "y_train = y.iloc[:int(y.shape[0]*0.8)]\n",
    "y_test = y.iloc[int(y.shape[0]*0.8):]\n",
    "\n",
    "# Model Selection and Training\n",
    "model = LinearRegression()\n",
    "model.fit(X_train, y_train)"
   ]
  },
  {
   "cell_type": "markdown",
   "metadata": {
    "application/vnd.databricks.v1+cell": {
     "cellMetadata": {},
     "inputWidgets": {},
     "nuid": "25b0d842-3760-409f-a3aa-3bb24a9429cc",
     "showTitle": false,
     "title": ""
    }
   },
   "source": [
    "## Evaluate"
   ]
  },
  {
   "cell_type": "code",
   "execution_count": 0,
   "metadata": {
    "application/vnd.databricks.v1+cell": {
     "cellMetadata": {
      "byteLimit": 2048000,
      "rowLimit": 10000
     },
     "inputWidgets": {},
     "nuid": "4cc5266a-8480-4e23-8e34-570f2bdf55d3",
     "showTitle": false,
     "title": ""
    }
   },
   "outputs": [
    {
     "output_type": "execute_result",
     "data": {
      "text/plain": [
       "array([ 92.61976766,  97.01521079, 101.94529251, 101.76229705,\n",
       "       103.25712154,  97.31157131,  92.76460528,  97.55602505,\n",
       "       104.18130794, 106.07196261])"
      ]
     },
     "execution_count": 32,
     "metadata": {},
     "output_type": "execute_result"
    }
   ],
   "source": [
    "# Sample data creation\n",
    "np.random.seed(0)\n",
    "\n",
    "eval_df = pd.DataFrame({\n",
    "    'casing_pressure': np.random.normal(100, 10, 10),\n",
    "    'tubing_pressure': np.random.normal(90, 10, 10),\n",
    "    'gas_flow_rate': np.random.normal(50, 5, 10),\n",
    "    'water_flow_rate': np.random.normal(20, 2, 10)\n",
    "})\n",
    "\n",
    "scaler = StandardScaler()\n",
    "eval_df = pd.DataFrame(scaler.fit_transform(eval_df), columns=features)\n",
    "\n",
    "# Run model prediction\n",
    "predicted_speeds = model.predict(eval_df)\n",
    "predicted_speeds"
   ]
  },
  {
   "cell_type": "markdown",
   "metadata": {
    "application/vnd.databricks.v1+cell": {
     "cellMetadata": {},
     "inputWidgets": {},
     "nuid": "b852548c-ee20-49f3-8685-d4e04c192b1b",
     "showTitle": false,
     "title": ""
    }
   },
   "source": [
    "## Insert recommendations to Delta Table"
   ]
  },
  {
   "cell_type": "code",
   "execution_count": 0,
   "metadata": {
    "application/vnd.databricks.v1+cell": {
     "cellMetadata": {
      "byteLimit": 2048000,
      "rowLimit": 10000
     },
     "inputWidgets": {},
     "nuid": "dfd8ab55-75b1-456f-b3a0-65be30e6a9ae",
     "showTitle": false,
     "title": ""
    }
   },
   "outputs": [
    {
     "output_type": "execute_result",
     "data": {
      "text/html": [
       "<div>\n",
       "<style scoped>\n",
       "    .dataframe tbody tr th:only-of-type {\n",
       "        vertical-align: middle;\n",
       "    }\n",
       "\n",
       "    .dataframe tbody tr th {\n",
       "        vertical-align: top;\n",
       "    }\n",
       "\n",
       "    .dataframe thead th {\n",
       "        text-align: right;\n",
       "    }\n",
       "</style>\n",
       "<table border=\"1\" class=\"dataframe\">\n",
       "  <thead>\n",
       "    <tr style=\"text-align: right;\">\n",
       "      <th></th>\n",
       "      <th>timestamp</th>\n",
       "      <th>asset</th>\n",
       "      <th>recommended_speed</th>\n",
       "    </tr>\n",
       "  </thead>\n",
       "  <tbody>\n",
       "    <tr>\n",
       "      <th>0</th>\n",
       "      <td>2024-05-01 23:34:32.525690</td>\n",
       "      <td>pcp_01</td>\n",
       "      <td>92.6</td>\n",
       "    </tr>\n",
       "    <tr>\n",
       "      <th>1</th>\n",
       "      <td>2024-05-01 23:34:32.525690</td>\n",
       "      <td>pcp_02</td>\n",
       "      <td>97.0</td>\n",
       "    </tr>\n",
       "    <tr>\n",
       "      <th>2</th>\n",
       "      <td>2024-05-01 23:34:32.525690</td>\n",
       "      <td>pcp_03</td>\n",
       "      <td>101.9</td>\n",
       "    </tr>\n",
       "    <tr>\n",
       "      <th>3</th>\n",
       "      <td>2024-05-01 23:34:32.525690</td>\n",
       "      <td>pcp_04</td>\n",
       "      <td>101.8</td>\n",
       "    </tr>\n",
       "    <tr>\n",
       "      <th>4</th>\n",
       "      <td>2024-05-01 23:34:32.525690</td>\n",
       "      <td>pcp_05</td>\n",
       "      <td>103.3</td>\n",
       "    </tr>\n",
       "  </tbody>\n",
       "</table>\n",
       "</div>"
      ],
      "text/plain": [
       "                   timestamp   asset  recommended_speed\n",
       "0 2024-05-01 23:34:32.525690  pcp_01               92.6\n",
       "1 2024-05-01 23:34:32.525690  pcp_02               97.0\n",
       "2 2024-05-01 23:34:32.525690  pcp_03              101.9\n",
       "3 2024-05-01 23:34:32.525690  pcp_04              101.8\n",
       "4 2024-05-01 23:34:32.525690  pcp_05              103.3"
      ]
     },
     "execution_count": 33,
     "metadata": {},
     "output_type": "execute_result"
    }
   ],
   "source": [
    "recs_df = pd.DataFrame({\n",
    "    'timestamp': [pd.Timestamp.now()] * len(predicted_speeds),\n",
    "    'asset': ['pcp_' + str(i).zfill(2) for i in range(1, len(predicted_speeds) + 1)],\n",
    "    'recommended_speed': np.round(predicted_speeds, 1)\n",
    "})\n",
    "recs_df.head()\n"
   ]
  },
  {
   "cell_type": "code",
   "execution_count": 0,
   "metadata": {
    "application/vnd.databricks.v1+cell": {
     "cellMetadata": {
      "byteLimit": 2048000,
      "rowLimit": 10000
     },
     "inputWidgets": {},
     "nuid": "a6ed9621-6719-4774-b2f6-6112e70702be",
     "showTitle": false,
     "title": ""
    }
   },
   "outputs": [],
   "source": [
    "# Convert df to a Spark DataFrame\n",
    "result_df = spark.createDataFrame(recs_df)\n",
    "\n",
    "# Write the Spark DataFrame to the Delta table\n",
    "result_df.write.format(\"delta\").mode(\"append\").saveAsTable(\"kelvin.pcp_optimization_recommendations\")"
   ]
  },
  {
   "cell_type": "code",
   "execution_count": 0,
   "metadata": {
    "application/vnd.databricks.v1+cell": {
     "cellMetadata": {
      "byteLimit": 2048000,
      "implicitDf": true,
      "rowLimit": 10000
     },
     "inputWidgets": {},
     "nuid": "cc612208-0569-4a34-b069-047a7b74897d",
     "showTitle": false,
     "title": ""
    }
   },
   "outputs": [
    {
     "output_type": "display_data",
     "data": {
      "text/html": [
       "<style scoped>\n",
       "  .table-result-container {\n",
       "    max-height: 300px;\n",
       "    overflow: auto;\n",
       "  }\n",
       "  table, th, td {\n",
       "    border: 1px solid black;\n",
       "    border-collapse: collapse;\n",
       "  }\n",
       "  th, td {\n",
       "    padding: 5px;\n",
       "  }\n",
       "  th {\n",
       "    text-align: left;\n",
       "  }\n",
       "</style><div class='table-result-container'><table class='table-result'><thead style='background-color: white'><tr><th>timestamp</th><th>asset</th><th>recommended_speed</th></tr></thead><tbody><tr><td>2024-05-01T23:34:32.52569Z</td><td>pcp_01</td><td>92.6</td></tr><tr><td>2024-05-01T23:34:32.52569Z</td><td>pcp_02</td><td>97.0</td></tr><tr><td>2024-05-01T23:34:32.52569Z</td><td>pcp_03</td><td>101.9</td></tr><tr><td>2024-05-01T23:34:32.52569Z</td><td>pcp_04</td><td>101.8</td></tr><tr><td>2024-05-01T23:34:32.52569Z</td><td>pcp_05</td><td>103.3</td></tr><tr><td>2024-05-01T23:34:32.52569Z</td><td>pcp_06</td><td>97.3</td></tr><tr><td>2024-05-01T23:34:32.52569Z</td><td>pcp_07</td><td>92.8</td></tr><tr><td>2024-05-01T23:34:32.52569Z</td><td>pcp_08</td><td>97.6</td></tr><tr><td>2024-05-01T23:34:32.52569Z</td><td>pcp_09</td><td>104.2</td></tr><tr><td>2024-05-01T23:34:32.52569Z</td><td>pcp_10</td><td>106.1</td></tr></tbody></table></div>"
      ]
     },
     "metadata": {
      "application/vnd.databricks.v1+output": {
       "addedWidgets": {},
       "aggData": [],
       "aggError": "",
       "aggOverflow": false,
       "aggSchema": [],
       "aggSeriesLimitReached": false,
       "aggType": "",
       "arguments": {},
       "columnCustomDisplayInfos": {},
       "data": [
        [
         "2024-05-01T23:34:32.52569Z",
         "pcp_01",
         92.6
        ],
        [
         "2024-05-01T23:34:32.52569Z",
         "pcp_02",
         97.0
        ],
        [
         "2024-05-01T23:34:32.52569Z",
         "pcp_03",
         101.9
        ],
        [
         "2024-05-01T23:34:32.52569Z",
         "pcp_04",
         101.8
        ],
        [
         "2024-05-01T23:34:32.52569Z",
         "pcp_05",
         103.3
        ],
        [
         "2024-05-01T23:34:32.52569Z",
         "pcp_06",
         97.3
        ],
        [
         "2024-05-01T23:34:32.52569Z",
         "pcp_07",
         92.8
        ],
        [
         "2024-05-01T23:34:32.52569Z",
         "pcp_08",
         97.6
        ],
        [
         "2024-05-01T23:34:32.52569Z",
         "pcp_09",
         104.2
        ],
        [
         "2024-05-01T23:34:32.52569Z",
         "pcp_10",
         106.1
        ]
       ],
       "datasetInfos": [],
       "dbfsResultPath": null,
       "isJsonSchema": true,
       "metadata": {
        "dataframeName": "_sqldf",
        "executionCount": 35
       },
       "overflow": false,
       "plotOptions": {
        "customPlotOptions": {},
        "displayType": "table",
        "pivotAggregation": null,
        "pivotColumns": null,
        "xColumns": null,
        "yColumns": null
       },
       "removedWidgets": [],
       "schema": [
        {
         "metadata": "{}",
         "name": "timestamp",
         "type": "\"timestamp\""
        },
        {
         "metadata": "{}",
         "name": "asset",
         "type": "\"string\""
        },
        {
         "metadata": "{}",
         "name": "recommended_speed",
         "type": "\"double\""
        }
       ],
       "type": "table"
      }
     },
     "output_type": "display_data"
    }
   ],
   "source": [
    "%sql\n",
    "SELECT * FROM kelvin.pcp_optimization_recommendations ORDER BY `timestamp` DESC"
   ]
  }
 ],
 "metadata": {
  "application/vnd.databricks.v1+notebook": {
   "dashboards": [],
   "language": "python",
   "notebookMetadata": {
    "mostRecentlyExecutedCommandWithImplicitDF": {
     "commandId": 2702008332574830,
     "dataframes": [
      "_sqldf"
     ]
    },
    "pythonIndentUnit": 4
   },
   "notebookName": "PCP Optimization Model",
   "widgets": {}
  }
 },
 "nbformat": 4,
 "nbformat_minor": 0
}
